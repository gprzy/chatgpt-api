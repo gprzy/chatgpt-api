{
 "cells": [
  {
   "cell_type": "code",
   "execution_count": 1,
   "metadata": {},
   "outputs": [],
   "source": [
    "import os\n",
    "import sys\n",
    "import json\n",
    "import openai\n",
    "\n",
    "from dotenv import load_dotenv"
   ]
  },
  {
   "cell_type": "code",
   "execution_count": 4,
   "metadata": {},
   "outputs": [],
   "source": [
    "load_dotenv()\n",
    "openai.api_key = os.environ['GPT_API_KEY']"
   ]
  },
  {
   "attachments": {},
   "cell_type": "markdown",
   "metadata": {},
   "source": [
    "## Loading prompts"
   ]
  },
  {
   "cell_type": "code",
   "execution_count": 5,
   "metadata": {},
   "outputs": [
    {
     "data": {
      "text/plain": [
       "['Você poderia me listar quantos dias tem em cada mês do ano?',\n",
       " 'Quantos segundos tem em um ano?',\n",
       " 'Qual é, precisamente, a velocidade da luz?']"
      ]
     },
     "execution_count": 5,
     "metadata": {},
     "output_type": "execute_result"
    }
   ],
   "source": [
    "with open('./prompts.json', 'r') as f:\n",
    "    content = f.read()\n",
    "    prompts = json.loads(content)\n",
    "\n",
    "prompts"
   ]
  },
  {
   "cell_type": "code",
   "execution_count": 7,
   "metadata": {},
   "outputs": [
    {
     "data": {
      "text/plain": [
       "[{'role': 'system', 'content': 'GPT assistant'},\n",
       " {'role': 'user',\n",
       "  'content': 'Você poderia me listar quantos dias tem em cada mês do ano?'},\n",
       " {'role': 'user', 'content': 'Quantos segundos tem em um ano?'},\n",
       " {'role': 'user', 'content': 'Qual é, precisamente, a velocidade da luz?'}]"
      ]
     },
     "execution_count": 7,
     "metadata": {},
     "output_type": "execute_result"
    }
   ],
   "source": [
    "messages = [\n",
    "    {\n",
    "        'role': 'system',\n",
    "        'content': 'GPT assistant'\n",
    "    },\n",
    "]\n",
    "\n",
    "for prompt in prompts:\n",
    "    messages.append(\n",
    "        {\n",
    "            'role': 'user',\n",
    "            'content': prompt\n",
    "        },\n",
    "    )\n",
    "\n",
    "messages"
   ]
  },
  {
   "attachments": {},
   "cell_type": "markdown",
   "metadata": {},
   "source": [
    "## Example with the first question"
   ]
  },
  {
   "cell_type": "code",
   "execution_count": 13,
   "metadata": {},
   "outputs": [],
   "source": [
    "chat_completion = openai.ChatCompletion.create(\n",
    "    model='gpt-3.5-turbo',\n",
    "    messages=messages[:2]\n",
    ")"
   ]
  },
  {
   "cell_type": "code",
   "execution_count": 14,
   "metadata": {},
   "outputs": [
    {
     "data": {
      "text/plain": [
       "<OpenAIObject chat.completion id=chatcmpl-6u202rOZuKJo7KZ5s9n75u0veGwQ2 at 0x1eca1739310> JSON: {\n",
       "  \"choices\": [\n",
       "    {\n",
       "      \"finish_reason\": \"stop\",\n",
       "      \"index\": 0,\n",
       "      \"message\": {\n",
       "        \"content\": \"Claro! Abaixo est\\u00e1 a lista dos dias de cada m\\u00eas do ano:\\n\\n- Janeiro: 31 dias\\n- Fevereiro: 28 dias (29 dias em anos bissextos)\\n- Mar\\u00e7o: 31 dias\\n- Abril: 30 dias\\n- Maio: 31 dias\\n- Junho: 30 dias\\n- Julho: 31 dias\\n- Agosto: 31 dias\\n- Setembro: 30 dias\\n- Outubro: 31 dias\\n- Novembro: 30 dias\\n- Dezembro: 31 dias\",\n",
       "        \"role\": \"assistant\"\n",
       "      }\n",
       "    }\n",
       "  ],\n",
       "  \"created\": 1678812074,\n",
       "  \"id\": \"chatcmpl-6u202rOZuKJo7KZ5s9n75u0veGwQ2\",\n",
       "  \"model\": \"gpt-3.5-turbo-0301\",\n",
       "  \"object\": \"chat.completion\",\n",
       "  \"usage\": {\n",
       "    \"completion_tokens\": 125,\n",
       "    \"prompt_tokens\": 31,\n",
       "    \"total_tokens\": 156\n",
       "  }\n",
       "}"
      ]
     },
     "execution_count": 14,
     "metadata": {},
     "output_type": "execute_result"
    }
   ],
   "source": [
    "chat_completion"
   ]
  },
  {
   "cell_type": "code",
   "execution_count": 15,
   "metadata": {},
   "outputs": [
    {
     "data": {
      "text/plain": [
       "[<OpenAIObject at 0x1eca178dd60> JSON: {\n",
       "   \"finish_reason\": \"stop\",\n",
       "   \"index\": 0,\n",
       "   \"message\": {\n",
       "     \"content\": \"Claro! Abaixo est\\u00e1 a lista dos dias de cada m\\u00eas do ano:\\n\\n- Janeiro: 31 dias\\n- Fevereiro: 28 dias (29 dias em anos bissextos)\\n- Mar\\u00e7o: 31 dias\\n- Abril: 30 dias\\n- Maio: 31 dias\\n- Junho: 30 dias\\n- Julho: 31 dias\\n- Agosto: 31 dias\\n- Setembro: 30 dias\\n- Outubro: 31 dias\\n- Novembro: 30 dias\\n- Dezembro: 31 dias\",\n",
       "     \"role\": \"assistant\"\n",
       "   }\n",
       " }]"
      ]
     },
     "execution_count": 15,
     "metadata": {},
     "output_type": "execute_result"
    }
   ],
   "source": [
    "chat_completion.choices"
   ]
  },
  {
   "cell_type": "code",
   "execution_count": 18,
   "metadata": {},
   "outputs": [
    {
     "name": "stdout",
     "output_type": "stream",
     "text": [
      "Claro! Abaixo está a lista dos dias de cada mês do ano:\n",
      "\n",
      "- Janeiro: 31 dias\n",
      "- Fevereiro: 28 dias (29 dias em anos bissextos)\n",
      "- Março: 31 dias\n",
      "- Abril: 30 dias\n",
      "- Maio: 31 dias\n",
      "- Junho: 30 dias\n",
      "- Julho: 31 dias\n",
      "- Agosto: 31 dias\n",
      "- Setembro: 30 dias\n",
      "- Outubro: 31 dias\n",
      "- Novembro: 30 dias\n",
      "- Dezembro: 31 dias\n"
     ]
    }
   ],
   "source": [
    "answer = chat_completion.choices[0].message.content\n",
    "print(answer)"
   ]
  },
  {
   "attachments": {},
   "cell_type": "markdown",
   "metadata": {},
   "source": [
    "## Example with all questions"
   ]
  },
  {
   "cell_type": "code",
   "execution_count": 30,
   "metadata": {},
   "outputs": [
    {
     "name": "stdout",
     "output_type": "stream",
     "text": [
      "===PROCESSO INICIADO===\n",
      "\n",
      "--------------------------------------------------------------------------------\n",
      "[Question]\n",
      ">> You:\n",
      "Você poderia me listar quantos dias tem em cada mês do ano?\n",
      "\n",
      "[Answer]\n",
      ">> GPT:\n",
      "A velocidade da luz no vácuo é exatamente 299.792.458 metros por segundo (aproximadamente 300.000 km/s) de acordo com o Sistema Internacional de Unidades (SI). Esta é a velocidade máxima da transmissão de informações, e nada é capaz de superá-la. A constante da velocidade da luz é uma das mais fundamentais na física e é amplamente utilizada em todo o ramo da ciência.\n",
      "\n",
      "--------------------------------------------------------------------------------\n",
      "[Question]\n",
      ">> You:\n",
      "Quantos segundos tem em um ano?\n",
      "\n",
      "[Answer]\n",
      ">> GPT:\n",
      "Claro, aqui está a lista:\n",
      "\n",
      "- Janeiro: 31 dias\n",
      "- Fevereiro: 28 dias (29 dias em anos bissextos)\n",
      "- Março: 31 dias\n",
      "- Abril: 30 dias\n",
      "- Maio: 31 dias\n",
      "- Junho: 30 dias\n",
      "- Julho: 31 dias\n",
      "- Agosto: 31 dias\n",
      "- Setembro: 30 dias\n",
      "- Outubro: 31 dias\n",
      "- Novembro: 30 dias\n",
      "- Dezembro: 31 dias\n",
      "\n",
      "--------------------------------------------------------------------------------\n",
      "[Question]\n",
      ">> You:\n",
      "Qual é, precisamente, a velocidade da luz?\n",
      "\n",
      "[Answer]\n",
      ">> GPT:\n",
      "Um ano tem 365 dias, mas em anos bissextos tem 366 dias. Um dia tem 24 horas, cada hora tem 60 minutos e cada minuto tem 60 segundos. Portanto, temos:\n",
      "\n",
      "- Em um ano comum: 365 dias x 24 horas x 60 minutos x 60 segundos = 31.536.000 segundos\n",
      "- Em um ano bissexto: 366 dias x 24 horas x 60 minutos x 60 segundos = 31.622.400 segundos\n",
      "\n",
      "Portanto, em média, há cerca de 31.536.000 segundos em um ano.\n"
     ]
    }
   ],
   "source": [
    "messages = [\n",
    "    {\n",
    "        'role': 'system',\n",
    "        'content': 'GPT assistant'\n",
    "    },\n",
    "]\n",
    "\n",
    "print('[PROCESSO INICIADO]')\n",
    "\n",
    "for prompt in prompts:\n",
    "    messages.append(\n",
    "        {\n",
    "            'role': 'user',\n",
    "            'content': prompt\n",
    "        },\n",
    "    )\n",
    "\n",
    "    chat_completion = openai.ChatCompletion.create(\n",
    "            model='gpt-3.5-turbo',\n",
    "            messages=messages\n",
    "    )\n",
    "\n",
    "    print('\\n' + '-'*80)\n",
    "\n",
    "    print(f'[Question]')\n",
    "    print(f'>> You:')\n",
    "    print(prompt)\n",
    "    \n",
    "    print(f'\\n[Answer]')\n",
    "    print(f'>> GPT:')\n",
    "    print(answer)\n",
    "\n",
    "    answer = chat_completion.choices[0].message.content\n",
    "    \n",
    "    messages.append(\n",
    "        {\n",
    "            'role': 'assistant', 'content': answer\n",
    "        }\n",
    "    )"
   ]
  }
 ],
 "metadata": {
  "kernelspec": {
   "display_name": "base",
   "language": "python",
   "name": "python3"
  },
  "language_info": {
   "codemirror_mode": {
    "name": "ipython",
    "version": 3
   },
   "file_extension": ".py",
   "mimetype": "text/x-python",
   "name": "python",
   "nbconvert_exporter": "python",
   "pygments_lexer": "ipython3",
   "version": "3.9.13"
  },
  "orig_nbformat": 4
 },
 "nbformat": 4,
 "nbformat_minor": 2
}

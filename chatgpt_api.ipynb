{
 "cells": [
  {
   "cell_type": "code",
   "execution_count": 1,
   "metadata": {},
   "outputs": [],
   "source": [
    "import os\n",
    "import sys\n",
    "import json\n",
    "import openai\n",
    "\n",
    "from dotenv import load_dotenv"
   ]
  },
  {
   "cell_type": "code",
   "execution_count": 2,
   "metadata": {},
   "outputs": [],
   "source": [
    "load_dotenv()\n",
    "openai.api_key = os.environ['GPT_API_KEY']"
   ]
  },
  {
   "attachments": {},
   "cell_type": "markdown",
   "metadata": {},
   "source": [
    "## Loading prompts"
   ]
  },
  {
   "cell_type": "code",
   "execution_count": 3,
   "metadata": {},
   "outputs": [
    {
     "data": {
      "text/plain": [
       "['Can you tell me how many days have in each month of the year?',\n",
       " 'How many seconds have in one year?',\n",
       " 'What is the speed of light?']"
      ]
     },
     "execution_count": 3,
     "metadata": {},
     "output_type": "execute_result"
    }
   ],
   "source": [
    "with open('./input/prompts.json', 'r') as f:\n",
    "    content = f.read()\n",
    "    prompts = json.loads(content)\n",
    "\n",
    "prompts"
   ]
  },
  {
   "cell_type": "code",
   "execution_count": 4,
   "metadata": {},
   "outputs": [
    {
     "data": {
      "text/plain": [
       "[{'role': 'system', 'content': 'GPT assistant'},\n",
       " {'role': 'user',\n",
       "  'content': 'Can you tell me how many days have in each month of the year?'},\n",
       " {'role': 'user', 'content': 'How many seconds have in one year?'},\n",
       " {'role': 'user', 'content': 'What is the speed of light?'}]"
      ]
     },
     "execution_count": 4,
     "metadata": {},
     "output_type": "execute_result"
    }
   ],
   "source": [
    "messages = [\n",
    "    {\n",
    "        'role': 'system',\n",
    "        'content': 'GPT assistant'\n",
    "    },\n",
    "]\n",
    "\n",
    "for prompt in prompts:\n",
    "    messages.append(\n",
    "        {\n",
    "            'role': 'user',\n",
    "            'content': prompt\n",
    "        },\n",
    "    )\n",
    "\n",
    "messages"
   ]
  },
  {
   "attachments": {},
   "cell_type": "markdown",
   "metadata": {},
   "source": [
    "## Example with the first question"
   ]
  },
  {
   "cell_type": "code",
   "execution_count": 15,
   "metadata": {},
   "outputs": [],
   "source": [
    "chat_completion = openai.ChatCompletion.create(\n",
    "    model='gpt-3.5-turbo',\n",
    "    messages=messages[:2]\n",
    ")"
   ]
  },
  {
   "cell_type": "code",
   "execution_count": 16,
   "metadata": {},
   "outputs": [
    {
     "data": {
      "text/plain": [
       "<OpenAIObject chat.completion id=chatcmpl-6u86kx1nGUqHAvZJwevf5xOlhjIEE at 0x1fa4a3d1810> JSON: {\n",
       "  \"choices\": [\n",
       "    {\n",
       "      \"finish_reason\": \"stop\",\n",
       "      \"index\": 0,\n",
       "      \"message\": {\n",
       "        \"content\": \"\\n\\nSure, I can help you with that! Here's a list of the number of days in each month:\\n\\nJanuary - 31 days\\nFebruary - 28 days (or 29 in a leap year)\\nMarch - 31 days\\nApril - 30 days\\nMay - 31 days\\nJune - 30 days\\nJuly - 31 days\\nAugust - 31 days\\nSeptember - 30 days\\nOctober - 31 days\\nNovember - 30 days\\nDecember - 31 days\\n\\nI hope that helps!\",\n",
       "        \"role\": \"assistant\"\n",
       "      }\n",
       "    }\n",
       "  ],\n",
       "  \"created\": 1678835554,\n",
       "  \"id\": \"chatcmpl-6u86kx1nGUqHAvZJwevf5xOlhjIEE\",\n",
       "  \"model\": \"gpt-3.5-turbo-0301\",\n",
       "  \"object\": \"chat.completion\",\n",
       "  \"usage\": {\n",
       "    \"completion_tokens\": 109,\n",
       "    \"prompt_tokens\": 30,\n",
       "    \"total_tokens\": 139\n",
       "  }\n",
       "}"
      ]
     },
     "execution_count": 16,
     "metadata": {},
     "output_type": "execute_result"
    }
   ],
   "source": [
    "chat_completion"
   ]
  },
  {
   "cell_type": "code",
   "execution_count": 17,
   "metadata": {},
   "outputs": [
    {
     "data": {
      "text/plain": [
       "[<OpenAIObject at 0x1fa48891e50> JSON: {\n",
       "   \"finish_reason\": \"stop\",\n",
       "   \"index\": 0,\n",
       "   \"message\": {\n",
       "     \"content\": \"\\n\\nSure, I can help you with that! Here's a list of the number of days in each month:\\n\\nJanuary - 31 days\\nFebruary - 28 days (or 29 in a leap year)\\nMarch - 31 days\\nApril - 30 days\\nMay - 31 days\\nJune - 30 days\\nJuly - 31 days\\nAugust - 31 days\\nSeptember - 30 days\\nOctober - 31 days\\nNovember - 30 days\\nDecember - 31 days\\n\\nI hope that helps!\",\n",
       "     \"role\": \"assistant\"\n",
       "   }\n",
       " }]"
      ]
     },
     "execution_count": 17,
     "metadata": {},
     "output_type": "execute_result"
    }
   ],
   "source": [
    "chat_completion.choices"
   ]
  },
  {
   "cell_type": "code",
   "execution_count": 18,
   "metadata": {},
   "outputs": [
    {
     "name": "stdout",
     "output_type": "stream",
     "text": [
      "\n",
      "\n",
      "Sure, I can help you with that! Here's a list of the number of days in each month:\n",
      "\n",
      "January - 31 days\n",
      "February - 28 days (or 29 in a leap year)\n",
      "March - 31 days\n",
      "April - 30 days\n",
      "May - 31 days\n",
      "June - 30 days\n",
      "July - 31 days\n",
      "August - 31 days\n",
      "September - 30 days\n",
      "October - 31 days\n",
      "November - 30 days\n",
      "December - 31 days\n",
      "\n",
      "I hope that helps!\n"
     ]
    }
   ],
   "source": [
    "answer = chat_completion.choices[0].message.content\n",
    "print(answer)"
   ]
  },
  {
   "attachments": {},
   "cell_type": "markdown",
   "metadata": {},
   "source": [
    "## Example with all questions"
   ]
  },
  {
   "cell_type": "code",
   "execution_count": 49,
   "metadata": {},
   "outputs": [
    {
     "data": {
      "text/plain": [
       "[{'role': 'system', 'content': 'GPT assistant'},\n",
       " {'role': 'user', 'content': 'What is the speed of light?'}]"
      ]
     },
     "execution_count": 49,
     "metadata": {},
     "output_type": "execute_result"
    }
   ],
   "source": [
    "messages = [\n",
    "    {'role': 'system', 'content': 'GPT assistant'},\n",
    "    {'role': 'user', 'content': 'What is the speed of light?'}\n",
    "]\n",
    "\n",
    "messages"
   ]
  },
  {
   "cell_type": "code",
   "execution_count": 50,
   "metadata": {},
   "outputs": [
    {
     "data": {
      "text/plain": [
       "[{'role': 'system', 'content': 'GPT assistant'},\n",
       " {'role': 'user', 'content': 'What is the speed of light?'},\n",
       " {'role': 'assistant',\n",
       "  'content': 'The speed of light is approximately 299,792,458 meters per second (or about 186,282 miles per second).'}]"
      ]
     },
     "execution_count": 50,
     "metadata": {},
     "output_type": "execute_result"
    }
   ],
   "source": [
    "chat_completion = openai.ChatCompletion.create(\n",
    "    model='gpt-3.5-turbo',\n",
    "    messages=messages\n",
    ")\n",
    "\n",
    "answer = chat_completion.choices[0].message.content\n",
    "    \n",
    "messages.append(\n",
    "    {'role': 'assistant', 'content': answer}\n",
    ")\n",
    "\n",
    "messages"
   ]
  },
  {
   "cell_type": "code",
   "execution_count": 51,
   "metadata": {},
   "outputs": [
    {
     "data": {
      "text/plain": [
       "[{'role': 'system', 'content': 'GPT assistant'},\n",
       " {'role': 'user', 'content': 'What is the speed of light?'},\n",
       " {'role': 'assistant',\n",
       "  'content': 'The speed of light is approximately 299,792,458 meters per second (or about 186,282 miles per second).'},\n",
       " {'role': 'user', 'content': 'Can you provide me the answer in milisseconds?'}]"
      ]
     },
     "execution_count": 51,
     "metadata": {},
     "output_type": "execute_result"
    }
   ],
   "source": [
    "messages.append(\n",
    "    {\n",
    "        'role': 'user',\n",
    "        'content': 'Can you provide me the answer in milisseconds?'\n",
    "    }\n",
    ")\n",
    "\n",
    "messages"
   ]
  },
  {
   "cell_type": "code",
   "execution_count": 52,
   "metadata": {},
   "outputs": [],
   "source": [
    "chat_completion = openai.ChatCompletion.create(\n",
    "    model='gpt-3.5-turbo',\n",
    "    messages=messages\n",
    ")"
   ]
  },
  {
   "cell_type": "code",
   "execution_count": 53,
   "metadata": {},
   "outputs": [
    {
     "data": {
      "text/plain": [
       "[{'role': 'system', 'content': 'GPT assistant'},\n",
       " {'role': 'user', 'content': 'What is the speed of light?'},\n",
       " {'role': 'assistant',\n",
       "  'content': 'The speed of light is approximately 299,792,458 meters per second (or about 186,282 miles per second).'},\n",
       " {'role': 'user', 'content': 'Can you provide me the answer in milisseconds?'},\n",
       " {'role': 'assistant',\n",
       "  'content': 'Sure, the speed of light is about 299,792,458 meters per second, which is equal to approximately 299,792,458,000 meters per millisecond (since a millisecond is a thousandth of a second). Therefore, the speed of light in milliseconds is approximately 299,792,458,000 meters per millisecond.'}]"
      ]
     },
     "execution_count": 53,
     "metadata": {},
     "output_type": "execute_result"
    }
   ],
   "source": [
    "answer = chat_completion.choices[0].message.content\n",
    "    \n",
    "messages.append(\n",
    "    {'role': 'assistant', 'content': answer}\n",
    ")\n",
    "\n",
    "messages"
   ]
  },
  {
   "cell_type": "code",
   "execution_count": 54,
   "metadata": {},
   "outputs": [
    {
     "data": {
      "text/plain": [
       "[{'role': 'system', 'content': 'GPT assistant'},\n",
       " {'role': 'user', 'content': 'What is the speed of light?'},\n",
       " {'role': 'assistant',\n",
       "  'content': 'The speed of light is approximately 299,792,458 meters per second (or about 186,282 miles per second).'},\n",
       " {'role': 'user', 'content': 'Can you provide me the answer in milisseconds?'},\n",
       " {'role': 'assistant',\n",
       "  'content': 'Sure, the speed of light is about 299,792,458 meters per second, which is equal to approximately 299,792,458,000 meters per millisecond (since a millisecond is a thousandth of a second). Therefore, the speed of light in milliseconds is approximately 299,792,458,000 meters per millisecond.'},\n",
       " {'role': 'user',\n",
       "  'content': 'Its better to use the first option or the second?'}]"
      ]
     },
     "execution_count": 54,
     "metadata": {},
     "output_type": "execute_result"
    }
   ],
   "source": [
    "messages.append(\n",
    "    {\n",
    "        'role': 'user',\n",
    "        'content': 'Its better to use the first option or the second?'\n",
    "    }\n",
    ")\n",
    "\n",
    "messages"
   ]
  },
  {
   "cell_type": "code",
   "execution_count": 55,
   "metadata": {},
   "outputs": [],
   "source": [
    "chat_completion = openai.ChatCompletion.create(\n",
    "    model='gpt-3.5-turbo',\n",
    "    messages=messages\n",
    ")"
   ]
  },
  {
   "cell_type": "code",
   "execution_count": 56,
   "metadata": {},
   "outputs": [
    {
     "data": {
      "text/plain": [
       "[{'role': 'system', 'content': 'GPT assistant'},\n",
       " {'role': 'user', 'content': 'What is the speed of light?'},\n",
       " {'role': 'assistant',\n",
       "  'content': 'The speed of light is approximately 299,792,458 meters per second (or about 186,282 miles per second).'},\n",
       " {'role': 'user', 'content': 'Can you provide me the answer in milisseconds?'},\n",
       " {'role': 'assistant',\n",
       "  'content': 'Sure, the speed of light is about 299,792,458 meters per second, which is equal to approximately 299,792,458,000 meters per millisecond (since a millisecond is a thousandth of a second). Therefore, the speed of light in milliseconds is approximately 299,792,458,000 meters per millisecond.'},\n",
       " {'role': 'user',\n",
       "  'content': 'Its better to use the first option or the second?'},\n",
       " {'role': 'assistant',\n",
       "  'content': 'It depends on the context and the level of precision required. \\n\\nIf you need a generally accurate answer, the first option (approx. 299,792,458 meters per second) is commonly used and recognized around the world, and it is usually sufficient.\\n\\nHowever, if you need a more precise answer, the second option (approx. 299,792,458,000 meters per millisecond) may be more appropriate as it provides a higher level of accuracy and specificity.'}]"
      ]
     },
     "execution_count": 56,
     "metadata": {},
     "output_type": "execute_result"
    }
   ],
   "source": [
    "answer = chat_completion.choices[0].message.content\n",
    "    \n",
    "messages.append(\n",
    "    {\n",
    "        'role': 'assistant', 'content': answer\n",
    "    }\n",
    ")\n",
    "\n",
    "messages"
   ]
  }
 ],
 "metadata": {
  "kernelspec": {
   "display_name": "base",
   "language": "python",
   "name": "python3"
  },
  "language_info": {
   "codemirror_mode": {
    "name": "ipython",
    "version": 3
   },
   "file_extension": ".py",
   "mimetype": "text/x-python",
   "name": "python",
   "nbconvert_exporter": "python",
   "pygments_lexer": "ipython3",
   "version": "3.9.13"
  },
  "orig_nbformat": 4
 },
 "nbformat": 4,
 "nbformat_minor": 2
}
